{
 "cells": [
  {
   "cell_type": "code",
   "execution_count": 2,
   "id": "initial_id",
   "metadata": {
    "collapsed": true,
    "ExecuteTime": {
     "end_time": "2023-11-03T15:17:37.437020Z",
     "start_time": "2023-11-03T15:17:37.190609Z"
    }
   },
   "outputs": [],
   "source": [
    "import pandas as pd"
   ]
  },
  {
   "cell_type": "code",
   "execution_count": 3,
   "outputs": [
    {
     "data": {
      "text/plain": "                      date  p (mbar)  T (degC)  Tpot (K)  Tdew (degC)  rh (%)  \\\n0      2020-01-01 00:10:00   1008.89      0.71    273.18        -1.33    86.1   \n1      2020-01-01 00:20:00   1008.76      0.75    273.22        -1.44    85.2   \n2      2020-01-01 00:30:00   1008.66      0.73    273.21        -1.48    85.1   \n3      2020-01-01 00:40:00   1008.64      0.37    272.86        -1.64    86.3   \n4      2020-01-01 00:50:00   1008.61      0.33    272.82        -1.50    87.4   \n...                    ...       ...       ...       ...          ...     ...   \n52691  2020-12-31 23:20:00    978.32      2.28    277.16        -0.80    80.0   \n52692  2020-12-31 23:30:00    978.30      2.13    277.01        -0.43    83.1   \n52693  2020-12-31 23:40:00    978.26      1.99    276.88        -0.71    82.2   \n52694  2020-12-31 23:50:00    978.26      2.07    276.95        -0.77    81.4   \n52695  2021-01-01 00:00:00    978.24      2.01    276.89        -0.66    82.4   \n\n       VPmax (mbar)  VPact (mbar)  VPdef (mbar)  sh (g/kg)  ...  wv (m/s)  \\\n0              6.43          5.54          0.89       3.42  ...      1.02   \n1              6.45          5.49          0.95       3.39  ...      0.43   \n2              6.44          5.48          0.96       3.39  ...      0.61   \n3              6.27          5.41          0.86       3.35  ...      1.11   \n4              6.26          5.47          0.79       3.38  ...      0.49   \n...             ...           ...           ...        ...  ...       ...   \n52691          7.20          5.76          1.44       3.67  ...      0.73   \n52692          7.12          5.92          1.20       3.77  ...      0.43   \n52693          7.05          5.80          1.26       3.69  ...      0.38   \n52694          7.09          5.77          1.32       3.68  ...      0.57   \n52695          7.06          5.82          1.24       3.71  ...      0.57   \n\n       max. wv (m/s)  wd (deg)  rain (mm)  raining (s)  SWDR (W/m�)  \\\n0               1.60     224.3        0.0          0.0          0.0   \n1               0.84     206.8        0.0          0.0          0.0   \n2               1.48     197.1        0.0          0.0          0.0   \n3               1.48     206.4        0.0          0.0          0.0   \n4               1.40     209.6        0.0          0.0          0.0   \n...              ...       ...        ...          ...          ...   \n52691           1.40     180.6        0.0          0.0          0.0   \n52692           0.82     174.0        0.0          0.0          0.0   \n52693           0.76     248.9        0.0          0.0          0.0   \n52694           1.07     196.6        0.0          0.0          0.0   \n52695           1.08     221.3        0.0          0.0          0.0   \n\n       PAR (�mol/m�/s)  max. PAR (�mol/m�/s)  Tlog (degC)     OT  \n0                  0.0                   0.0        11.45  428.1  \n1                  0.0                   0.0        11.51  428.0  \n2                  0.0                   0.0        11.60  427.6  \n3                  0.0                   0.0        11.70  430.0  \n4                  0.0                   0.0        11.81  432.2  \n...                ...                   ...          ...    ...  \n52691              0.0                   0.0        13.40  433.0  \n52692              0.0                   0.0        13.42  439.6  \n52693              0.0                   0.0        13.45  435.2  \n52694              0.0                   0.0        13.47  433.9  \n52695              0.0                   0.0        13.48  436.5  \n\n[52696 rows x 22 columns]",
      "text/html": "<div>\n<style scoped>\n    .dataframe tbody tr th:only-of-type {\n        vertical-align: middle;\n    }\n\n    .dataframe tbody tr th {\n        vertical-align: top;\n    }\n\n    .dataframe thead th {\n        text-align: right;\n    }\n</style>\n<table border=\"1\" class=\"dataframe\">\n  <thead>\n    <tr style=\"text-align: right;\">\n      <th></th>\n      <th>date</th>\n      <th>p (mbar)</th>\n      <th>T (degC)</th>\n      <th>Tpot (K)</th>\n      <th>Tdew (degC)</th>\n      <th>rh (%)</th>\n      <th>VPmax (mbar)</th>\n      <th>VPact (mbar)</th>\n      <th>VPdef (mbar)</th>\n      <th>sh (g/kg)</th>\n      <th>...</th>\n      <th>wv (m/s)</th>\n      <th>max. wv (m/s)</th>\n      <th>wd (deg)</th>\n      <th>rain (mm)</th>\n      <th>raining (s)</th>\n      <th>SWDR (W/m�)</th>\n      <th>PAR (�mol/m�/s)</th>\n      <th>max. PAR (�mol/m�/s)</th>\n      <th>Tlog (degC)</th>\n      <th>OT</th>\n    </tr>\n  </thead>\n  <tbody>\n    <tr>\n      <th>0</th>\n      <td>2020-01-01 00:10:00</td>\n      <td>1008.89</td>\n      <td>0.71</td>\n      <td>273.18</td>\n      <td>-1.33</td>\n      <td>86.1</td>\n      <td>6.43</td>\n      <td>5.54</td>\n      <td>0.89</td>\n      <td>3.42</td>\n      <td>...</td>\n      <td>1.02</td>\n      <td>1.60</td>\n      <td>224.3</td>\n      <td>0.0</td>\n      <td>0.0</td>\n      <td>0.0</td>\n      <td>0.0</td>\n      <td>0.0</td>\n      <td>11.45</td>\n      <td>428.1</td>\n    </tr>\n    <tr>\n      <th>1</th>\n      <td>2020-01-01 00:20:00</td>\n      <td>1008.76</td>\n      <td>0.75</td>\n      <td>273.22</td>\n      <td>-1.44</td>\n      <td>85.2</td>\n      <td>6.45</td>\n      <td>5.49</td>\n      <td>0.95</td>\n      <td>3.39</td>\n      <td>...</td>\n      <td>0.43</td>\n      <td>0.84</td>\n      <td>206.8</td>\n      <td>0.0</td>\n      <td>0.0</td>\n      <td>0.0</td>\n      <td>0.0</td>\n      <td>0.0</td>\n      <td>11.51</td>\n      <td>428.0</td>\n    </tr>\n    <tr>\n      <th>2</th>\n      <td>2020-01-01 00:30:00</td>\n      <td>1008.66</td>\n      <td>0.73</td>\n      <td>273.21</td>\n      <td>-1.48</td>\n      <td>85.1</td>\n      <td>6.44</td>\n      <td>5.48</td>\n      <td>0.96</td>\n      <td>3.39</td>\n      <td>...</td>\n      <td>0.61</td>\n      <td>1.48</td>\n      <td>197.1</td>\n      <td>0.0</td>\n      <td>0.0</td>\n      <td>0.0</td>\n      <td>0.0</td>\n      <td>0.0</td>\n      <td>11.60</td>\n      <td>427.6</td>\n    </tr>\n    <tr>\n      <th>3</th>\n      <td>2020-01-01 00:40:00</td>\n      <td>1008.64</td>\n      <td>0.37</td>\n      <td>272.86</td>\n      <td>-1.64</td>\n      <td>86.3</td>\n      <td>6.27</td>\n      <td>5.41</td>\n      <td>0.86</td>\n      <td>3.35</td>\n      <td>...</td>\n      <td>1.11</td>\n      <td>1.48</td>\n      <td>206.4</td>\n      <td>0.0</td>\n      <td>0.0</td>\n      <td>0.0</td>\n      <td>0.0</td>\n      <td>0.0</td>\n      <td>11.70</td>\n      <td>430.0</td>\n    </tr>\n    <tr>\n      <th>4</th>\n      <td>2020-01-01 00:50:00</td>\n      <td>1008.61</td>\n      <td>0.33</td>\n      <td>272.82</td>\n      <td>-1.50</td>\n      <td>87.4</td>\n      <td>6.26</td>\n      <td>5.47</td>\n      <td>0.79</td>\n      <td>3.38</td>\n      <td>...</td>\n      <td>0.49</td>\n      <td>1.40</td>\n      <td>209.6</td>\n      <td>0.0</td>\n      <td>0.0</td>\n      <td>0.0</td>\n      <td>0.0</td>\n      <td>0.0</td>\n      <td>11.81</td>\n      <td>432.2</td>\n    </tr>\n    <tr>\n      <th>...</th>\n      <td>...</td>\n      <td>...</td>\n      <td>...</td>\n      <td>...</td>\n      <td>...</td>\n      <td>...</td>\n      <td>...</td>\n      <td>...</td>\n      <td>...</td>\n      <td>...</td>\n      <td>...</td>\n      <td>...</td>\n      <td>...</td>\n      <td>...</td>\n      <td>...</td>\n      <td>...</td>\n      <td>...</td>\n      <td>...</td>\n      <td>...</td>\n      <td>...</td>\n      <td>...</td>\n    </tr>\n    <tr>\n      <th>52691</th>\n      <td>2020-12-31 23:20:00</td>\n      <td>978.32</td>\n      <td>2.28</td>\n      <td>277.16</td>\n      <td>-0.80</td>\n      <td>80.0</td>\n      <td>7.20</td>\n      <td>5.76</td>\n      <td>1.44</td>\n      <td>3.67</td>\n      <td>...</td>\n      <td>0.73</td>\n      <td>1.40</td>\n      <td>180.6</td>\n      <td>0.0</td>\n      <td>0.0</td>\n      <td>0.0</td>\n      <td>0.0</td>\n      <td>0.0</td>\n      <td>13.40</td>\n      <td>433.0</td>\n    </tr>\n    <tr>\n      <th>52692</th>\n      <td>2020-12-31 23:30:00</td>\n      <td>978.30</td>\n      <td>2.13</td>\n      <td>277.01</td>\n      <td>-0.43</td>\n      <td>83.1</td>\n      <td>7.12</td>\n      <td>5.92</td>\n      <td>1.20</td>\n      <td>3.77</td>\n      <td>...</td>\n      <td>0.43</td>\n      <td>0.82</td>\n      <td>174.0</td>\n      <td>0.0</td>\n      <td>0.0</td>\n      <td>0.0</td>\n      <td>0.0</td>\n      <td>0.0</td>\n      <td>13.42</td>\n      <td>439.6</td>\n    </tr>\n    <tr>\n      <th>52693</th>\n      <td>2020-12-31 23:40:00</td>\n      <td>978.26</td>\n      <td>1.99</td>\n      <td>276.88</td>\n      <td>-0.71</td>\n      <td>82.2</td>\n      <td>7.05</td>\n      <td>5.80</td>\n      <td>1.26</td>\n      <td>3.69</td>\n      <td>...</td>\n      <td>0.38</td>\n      <td>0.76</td>\n      <td>248.9</td>\n      <td>0.0</td>\n      <td>0.0</td>\n      <td>0.0</td>\n      <td>0.0</td>\n      <td>0.0</td>\n      <td>13.45</td>\n      <td>435.2</td>\n    </tr>\n    <tr>\n      <th>52694</th>\n      <td>2020-12-31 23:50:00</td>\n      <td>978.26</td>\n      <td>2.07</td>\n      <td>276.95</td>\n      <td>-0.77</td>\n      <td>81.4</td>\n      <td>7.09</td>\n      <td>5.77</td>\n      <td>1.32</td>\n      <td>3.68</td>\n      <td>...</td>\n      <td>0.57</td>\n      <td>1.07</td>\n      <td>196.6</td>\n      <td>0.0</td>\n      <td>0.0</td>\n      <td>0.0</td>\n      <td>0.0</td>\n      <td>0.0</td>\n      <td>13.47</td>\n      <td>433.9</td>\n    </tr>\n    <tr>\n      <th>52695</th>\n      <td>2021-01-01 00:00:00</td>\n      <td>978.24</td>\n      <td>2.01</td>\n      <td>276.89</td>\n      <td>-0.66</td>\n      <td>82.4</td>\n      <td>7.06</td>\n      <td>5.82</td>\n      <td>1.24</td>\n      <td>3.71</td>\n      <td>...</td>\n      <td>0.57</td>\n      <td>1.08</td>\n      <td>221.3</td>\n      <td>0.0</td>\n      <td>0.0</td>\n      <td>0.0</td>\n      <td>0.0</td>\n      <td>0.0</td>\n      <td>13.48</td>\n      <td>436.5</td>\n    </tr>\n  </tbody>\n</table>\n<p>52696 rows × 22 columns</p>\n</div>"
     },
     "execution_count": 3,
     "metadata": {},
     "output_type": "execute_result"
    }
   ],
   "source": [
    "file =('weather')\n",
    "df = pd.read_csv(file + '.csv')\n",
    "df"
   ],
   "metadata": {
    "collapsed": false,
    "ExecuteTime": {
     "end_time": "2023-11-03T15:17:37.541195Z",
     "start_time": "2023-11-03T15:17:37.462749Z"
    }
   },
   "id": "46f209e92e75b00d"
  },
  {
   "cell_type": "code",
   "execution_count": 4,
   "outputs": [
    {
     "data": {
      "text/plain": "                      date     OT\n0      2020-01-01 00:10:00  428.1\n1      2020-01-01 00:20:00  428.0\n2      2020-01-01 00:30:00  427.6\n3      2020-01-01 00:40:00  430.0\n4      2020-01-01 00:50:00  432.2\n...                    ...    ...\n52691  2020-12-31 23:20:00  433.0\n52692  2020-12-31 23:30:00  439.6\n52693  2020-12-31 23:40:00  435.2\n52694  2020-12-31 23:50:00  433.9\n52695  2021-01-01 00:00:00  436.5\n\n[52696 rows x 2 columns]",
      "text/html": "<div>\n<style scoped>\n    .dataframe tbody tr th:only-of-type {\n        vertical-align: middle;\n    }\n\n    .dataframe tbody tr th {\n        vertical-align: top;\n    }\n\n    .dataframe thead th {\n        text-align: right;\n    }\n</style>\n<table border=\"1\" class=\"dataframe\">\n  <thead>\n    <tr style=\"text-align: right;\">\n      <th></th>\n      <th>date</th>\n      <th>OT</th>\n    </tr>\n  </thead>\n  <tbody>\n    <tr>\n      <th>0</th>\n      <td>2020-01-01 00:10:00</td>\n      <td>428.1</td>\n    </tr>\n    <tr>\n      <th>1</th>\n      <td>2020-01-01 00:20:00</td>\n      <td>428.0</td>\n    </tr>\n    <tr>\n      <th>2</th>\n      <td>2020-01-01 00:30:00</td>\n      <td>427.6</td>\n    </tr>\n    <tr>\n      <th>3</th>\n      <td>2020-01-01 00:40:00</td>\n      <td>430.0</td>\n    </tr>\n    <tr>\n      <th>4</th>\n      <td>2020-01-01 00:50:00</td>\n      <td>432.2</td>\n    </tr>\n    <tr>\n      <th>...</th>\n      <td>...</td>\n      <td>...</td>\n    </tr>\n    <tr>\n      <th>52691</th>\n      <td>2020-12-31 23:20:00</td>\n      <td>433.0</td>\n    </tr>\n    <tr>\n      <th>52692</th>\n      <td>2020-12-31 23:30:00</td>\n      <td>439.6</td>\n    </tr>\n    <tr>\n      <th>52693</th>\n      <td>2020-12-31 23:40:00</td>\n      <td>435.2</td>\n    </tr>\n    <tr>\n      <th>52694</th>\n      <td>2020-12-31 23:50:00</td>\n      <td>433.9</td>\n    </tr>\n    <tr>\n      <th>52695</th>\n      <td>2021-01-01 00:00:00</td>\n      <td>436.5</td>\n    </tr>\n  </tbody>\n</table>\n<p>52696 rows × 2 columns</p>\n</div>"
     },
     "execution_count": 4,
     "metadata": {},
     "output_type": "execute_result"
    }
   ],
   "source": [
    "df = df[['date', 'OT']]\n",
    "df"
   ],
   "metadata": {
    "collapsed": false,
    "ExecuteTime": {
     "end_time": "2023-11-03T15:17:41.529279Z",
     "start_time": "2023-11-03T15:17:41.522575Z"
    }
   },
   "id": "ad02bac381fca750"
  },
  {
   "cell_type": "code",
   "execution_count": 5,
   "outputs": [],
   "source": [
    "# Name csv as file + '.csv'\n",
    "df.to_csv(file + '_uni.csv', index=False)"
   ],
   "metadata": {
    "collapsed": false,
    "ExecuteTime": {
     "end_time": "2023-11-03T15:17:43.333417Z",
     "start_time": "2023-11-03T15:17:43.279163Z"
    }
   },
   "id": "40566b90702ef338"
  },
  {
   "cell_type": "code",
   "execution_count": null,
   "outputs": [],
   "source": [],
   "metadata": {
    "collapsed": false
   },
   "id": "e110518f3c35693d"
  }
 ],
 "metadata": {
  "kernelspec": {
   "display_name": "Python 3",
   "language": "python",
   "name": "python3"
  },
  "language_info": {
   "codemirror_mode": {
    "name": "ipython",
    "version": 2
   },
   "file_extension": ".py",
   "mimetype": "text/x-python",
   "name": "python",
   "nbconvert_exporter": "python",
   "pygments_lexer": "ipython2",
   "version": "2.7.6"
  }
 },
 "nbformat": 4,
 "nbformat_minor": 5
}
