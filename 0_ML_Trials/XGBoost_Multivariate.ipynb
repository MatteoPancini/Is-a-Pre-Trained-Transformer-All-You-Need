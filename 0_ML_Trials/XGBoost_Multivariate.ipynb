{
 "cells": [
  {
   "cell_type": "code",
   "execution_count": 15,
   "id": "initial_id",
   "metadata": {
    "collapsed": true,
    "ExecuteTime": {
     "end_time": "2023-10-31T11:08:19.105302Z",
     "start_time": "2023-10-31T11:08:16.954916Z"
    }
   },
   "outputs": [],
   "source": [
    "import pandas as pd\n",
    "import numpy as np\n",
    "from matplotlib import pyplot as plt\n",
    "import os\n",
    "from xgboost import XGBRegressor\n",
    "from mlforecast import MLForecast\n",
    "from window_ops.rolling import rolling_mean, rolling_max, rolling_min"
   ]
  },
  {
   "cell_type": "code",
   "execution_count": 61,
   "outputs": [
    {
     "data": {
      "text/plain": "                     date    HUFL   HULL   MUFL   MULL   LUFL   LULL  \\\n0     2016-07-01 00:00:00   5.827  2.009  1.599  0.462  4.203  1.340   \n1     2016-07-01 01:00:00   5.693  2.076  1.492  0.426  4.142  1.371   \n2     2016-07-01 02:00:00   5.157  1.741  1.279  0.355  3.777  1.218   \n3     2016-07-01 03:00:00   5.090  1.942  1.279  0.391  3.807  1.279   \n4     2016-07-01 04:00:00   5.358  1.942  1.492  0.462  3.868  1.279   \n...                   ...     ...    ...    ...    ...    ...    ...   \n17415 2018-06-26 15:00:00  -1.674  3.550 -5.615  2.132  3.472  1.523   \n17416 2018-06-26 16:00:00  -5.492  4.287 -9.132  2.274  3.533  1.675   \n17417 2018-06-26 17:00:00   2.813  3.818 -0.817  2.097  3.716  1.523   \n17418 2018-06-26 18:00:00   9.243  3.818  5.472  2.097  3.655  1.432   \n17419 2018-06-26 19:00:00  10.114  3.550  6.183  1.564  3.716  1.462   \n\n              OT  unique_id  \n0      30.531000          0  \n1      27.787001          1  \n2      27.787001          2  \n3      25.044001          3  \n4      21.948000          4  \n...          ...        ...  \n17415  10.904000      17415  \n17416  11.044000      17416  \n17417  10.271000      17417  \n17418   9.778000      17418  \n17419   9.567000      17419  \n\n[17420 rows x 9 columns]",
      "text/html": "<div>\n<style scoped>\n    .dataframe tbody tr th:only-of-type {\n        vertical-align: middle;\n    }\n\n    .dataframe tbody tr th {\n        vertical-align: top;\n    }\n\n    .dataframe thead th {\n        text-align: right;\n    }\n</style>\n<table border=\"1\" class=\"dataframe\">\n  <thead>\n    <tr style=\"text-align: right;\">\n      <th></th>\n      <th>date</th>\n      <th>HUFL</th>\n      <th>HULL</th>\n      <th>MUFL</th>\n      <th>MULL</th>\n      <th>LUFL</th>\n      <th>LULL</th>\n      <th>OT</th>\n      <th>unique_id</th>\n    </tr>\n  </thead>\n  <tbody>\n    <tr>\n      <th>0</th>\n      <td>2016-07-01 00:00:00</td>\n      <td>5.827</td>\n      <td>2.009</td>\n      <td>1.599</td>\n      <td>0.462</td>\n      <td>4.203</td>\n      <td>1.340</td>\n      <td>30.531000</td>\n      <td>0</td>\n    </tr>\n    <tr>\n      <th>1</th>\n      <td>2016-07-01 01:00:00</td>\n      <td>5.693</td>\n      <td>2.076</td>\n      <td>1.492</td>\n      <td>0.426</td>\n      <td>4.142</td>\n      <td>1.371</td>\n      <td>27.787001</td>\n      <td>1</td>\n    </tr>\n    <tr>\n      <th>2</th>\n      <td>2016-07-01 02:00:00</td>\n      <td>5.157</td>\n      <td>1.741</td>\n      <td>1.279</td>\n      <td>0.355</td>\n      <td>3.777</td>\n      <td>1.218</td>\n      <td>27.787001</td>\n      <td>2</td>\n    </tr>\n    <tr>\n      <th>3</th>\n      <td>2016-07-01 03:00:00</td>\n      <td>5.090</td>\n      <td>1.942</td>\n      <td>1.279</td>\n      <td>0.391</td>\n      <td>3.807</td>\n      <td>1.279</td>\n      <td>25.044001</td>\n      <td>3</td>\n    </tr>\n    <tr>\n      <th>4</th>\n      <td>2016-07-01 04:00:00</td>\n      <td>5.358</td>\n      <td>1.942</td>\n      <td>1.492</td>\n      <td>0.462</td>\n      <td>3.868</td>\n      <td>1.279</td>\n      <td>21.948000</td>\n      <td>4</td>\n    </tr>\n    <tr>\n      <th>...</th>\n      <td>...</td>\n      <td>...</td>\n      <td>...</td>\n      <td>...</td>\n      <td>...</td>\n      <td>...</td>\n      <td>...</td>\n      <td>...</td>\n      <td>...</td>\n    </tr>\n    <tr>\n      <th>17415</th>\n      <td>2018-06-26 15:00:00</td>\n      <td>-1.674</td>\n      <td>3.550</td>\n      <td>-5.615</td>\n      <td>2.132</td>\n      <td>3.472</td>\n      <td>1.523</td>\n      <td>10.904000</td>\n      <td>17415</td>\n    </tr>\n    <tr>\n      <th>17416</th>\n      <td>2018-06-26 16:00:00</td>\n      <td>-5.492</td>\n      <td>4.287</td>\n      <td>-9.132</td>\n      <td>2.274</td>\n      <td>3.533</td>\n      <td>1.675</td>\n      <td>11.044000</td>\n      <td>17416</td>\n    </tr>\n    <tr>\n      <th>17417</th>\n      <td>2018-06-26 17:00:00</td>\n      <td>2.813</td>\n      <td>3.818</td>\n      <td>-0.817</td>\n      <td>2.097</td>\n      <td>3.716</td>\n      <td>1.523</td>\n      <td>10.271000</td>\n      <td>17417</td>\n    </tr>\n    <tr>\n      <th>17418</th>\n      <td>2018-06-26 18:00:00</td>\n      <td>9.243</td>\n      <td>3.818</td>\n      <td>5.472</td>\n      <td>2.097</td>\n      <td>3.655</td>\n      <td>1.432</td>\n      <td>9.778000</td>\n      <td>17418</td>\n    </tr>\n    <tr>\n      <th>17419</th>\n      <td>2018-06-26 19:00:00</td>\n      <td>10.114</td>\n      <td>3.550</td>\n      <td>6.183</td>\n      <td>1.564</td>\n      <td>3.716</td>\n      <td>1.462</td>\n      <td>9.567000</td>\n      <td>17419</td>\n    </tr>\n  </tbody>\n</table>\n<p>17420 rows × 9 columns</p>\n</div>"
     },
     "execution_count": 61,
     "metadata": {},
     "output_type": "execute_result"
    }
   ],
   "source": [
    "data = pd.read_csv('../datasets/ETT-small/ETTh1.csv', parse_dates=['date'])\n",
    "#delete index column and create id column for each time series\n",
    "data['unique_id'] = data.index\n",
    "# transform date column into datetime format\n",
    "data['date'] = pd.to_datetime(data['date'], format='%Y-%m-%d %H:%M:%S')\n",
    "data"
   ],
   "metadata": {
    "collapsed": false,
    "ExecuteTime": {
     "end_time": "2023-10-31T11:47:07.836251Z",
     "start_time": "2023-10-31T11:47:07.778802Z"
    }
   },
   "id": "b0ce163c33ee0d49"
  },
  {
   "cell_type": "code",
   "execution_count": 31,
   "outputs": [],
   "source": [
    "train = data[:8640]\n",
    "valid = data[8304:11520]\n",
    "test = data[11184:14400]\n",
    "\n",
    "number_of_days_in_valid = valid[\"date\"].nunique()"
   ],
   "metadata": {
    "collapsed": false,
    "ExecuteTime": {
     "end_time": "2023-10-31T11:21:07.738854Z",
     "start_time": "2023-10-31T11:21:07.735142Z"
    }
   },
   "id": "aa205464c8f2b307"
  },
  {
   "cell_type": "code",
   "execution_count": 68,
   "outputs": [
    {
     "data": {
      "text/plain": "                    date   HUFL   HULL   MUFL   MULL   LUFL   LULL         OT  \\\n0    2016-07-01 00:00:00  5.827  2.009  1.599  0.462  4.203  1.340  30.531000   \n1    2016-07-01 01:00:00  5.693  2.076  1.492  0.426  4.142  1.371  27.787001   \n2    2016-07-01 02:00:00  5.157  1.741  1.279  0.355  3.777  1.218  27.787001   \n3    2016-07-01 03:00:00  5.090  1.942  1.279  0.391  3.807  1.279  25.044001   \n4    2016-07-01 04:00:00  5.358  1.942  1.492  0.462  3.868  1.279  21.948000   \n...                  ...    ...    ...    ...    ...    ...    ...        ...   \n8635 2017-06-25 19:00:00  7.770  0.201  4.762  0.675  2.985 -0.640  21.174000   \n8636 2017-06-25 20:00:00  9.042  0.335  5.650  0.675  3.381 -0.609  20.612000   \n8637 2017-06-25 21:00:00  8.372  0.536  5.472  0.391  3.290 -0.670  21.034000   \n8638 2017-06-25 22:00:00  8.975  0.737  6.254  1.031  3.107 -0.579  21.455999   \n8639 2017-06-25 23:00:00  9.980  1.072  6.610  1.173  2.772 -0.640  20.752001   \n\n      unique_id  \n0             0  \n1             1  \n2             2  \n3             3  \n4             4  \n...         ...  \n8635       8635  \n8636       8636  \n8637       8637  \n8638       8638  \n8639       8639  \n\n[8640 rows x 9 columns]",
      "text/html": "<div>\n<style scoped>\n    .dataframe tbody tr th:only-of-type {\n        vertical-align: middle;\n    }\n\n    .dataframe tbody tr th {\n        vertical-align: top;\n    }\n\n    .dataframe thead th {\n        text-align: right;\n    }\n</style>\n<table border=\"1\" class=\"dataframe\">\n  <thead>\n    <tr style=\"text-align: right;\">\n      <th></th>\n      <th>date</th>\n      <th>HUFL</th>\n      <th>HULL</th>\n      <th>MUFL</th>\n      <th>MULL</th>\n      <th>LUFL</th>\n      <th>LULL</th>\n      <th>OT</th>\n      <th>unique_id</th>\n    </tr>\n  </thead>\n  <tbody>\n    <tr>\n      <th>0</th>\n      <td>2016-07-01 00:00:00</td>\n      <td>5.827</td>\n      <td>2.009</td>\n      <td>1.599</td>\n      <td>0.462</td>\n      <td>4.203</td>\n      <td>1.340</td>\n      <td>30.531000</td>\n      <td>0</td>\n    </tr>\n    <tr>\n      <th>1</th>\n      <td>2016-07-01 01:00:00</td>\n      <td>5.693</td>\n      <td>2.076</td>\n      <td>1.492</td>\n      <td>0.426</td>\n      <td>4.142</td>\n      <td>1.371</td>\n      <td>27.787001</td>\n      <td>1</td>\n    </tr>\n    <tr>\n      <th>2</th>\n      <td>2016-07-01 02:00:00</td>\n      <td>5.157</td>\n      <td>1.741</td>\n      <td>1.279</td>\n      <td>0.355</td>\n      <td>3.777</td>\n      <td>1.218</td>\n      <td>27.787001</td>\n      <td>2</td>\n    </tr>\n    <tr>\n      <th>3</th>\n      <td>2016-07-01 03:00:00</td>\n      <td>5.090</td>\n      <td>1.942</td>\n      <td>1.279</td>\n      <td>0.391</td>\n      <td>3.807</td>\n      <td>1.279</td>\n      <td>25.044001</td>\n      <td>3</td>\n    </tr>\n    <tr>\n      <th>4</th>\n      <td>2016-07-01 04:00:00</td>\n      <td>5.358</td>\n      <td>1.942</td>\n      <td>1.492</td>\n      <td>0.462</td>\n      <td>3.868</td>\n      <td>1.279</td>\n      <td>21.948000</td>\n      <td>4</td>\n    </tr>\n    <tr>\n      <th>...</th>\n      <td>...</td>\n      <td>...</td>\n      <td>...</td>\n      <td>...</td>\n      <td>...</td>\n      <td>...</td>\n      <td>...</td>\n      <td>...</td>\n      <td>...</td>\n    </tr>\n    <tr>\n      <th>8635</th>\n      <td>2017-06-25 19:00:00</td>\n      <td>7.770</td>\n      <td>0.201</td>\n      <td>4.762</td>\n      <td>0.675</td>\n      <td>2.985</td>\n      <td>-0.640</td>\n      <td>21.174000</td>\n      <td>8635</td>\n    </tr>\n    <tr>\n      <th>8636</th>\n      <td>2017-06-25 20:00:00</td>\n      <td>9.042</td>\n      <td>0.335</td>\n      <td>5.650</td>\n      <td>0.675</td>\n      <td>3.381</td>\n      <td>-0.609</td>\n      <td>20.612000</td>\n      <td>8636</td>\n    </tr>\n    <tr>\n      <th>8637</th>\n      <td>2017-06-25 21:00:00</td>\n      <td>8.372</td>\n      <td>0.536</td>\n      <td>5.472</td>\n      <td>0.391</td>\n      <td>3.290</td>\n      <td>-0.670</td>\n      <td>21.034000</td>\n      <td>8637</td>\n    </tr>\n    <tr>\n      <th>8638</th>\n      <td>2017-06-25 22:00:00</td>\n      <td>8.975</td>\n      <td>0.737</td>\n      <td>6.254</td>\n      <td>1.031</td>\n      <td>3.107</td>\n      <td>-0.579</td>\n      <td>21.455999</td>\n      <td>8638</td>\n    </tr>\n    <tr>\n      <th>8639</th>\n      <td>2017-06-25 23:00:00</td>\n      <td>9.980</td>\n      <td>1.072</td>\n      <td>6.610</td>\n      <td>1.173</td>\n      <td>2.772</td>\n      <td>-0.640</td>\n      <td>20.752001</td>\n      <td>8639</td>\n    </tr>\n  </tbody>\n</table>\n<p>8640 rows × 9 columns</p>\n</div>"
     },
     "execution_count": 68,
     "metadata": {},
     "output_type": "execute_result"
    }
   ],
   "source": [
    "train"
   ],
   "metadata": {
    "collapsed": false,
    "ExecuteTime": {
     "end_time": "2023-10-31T11:52:07.537244Z",
     "start_time": "2023-10-31T11:52:07.529432Z"
    }
   },
   "id": "157050ebe99e13af"
  },
  {
   "cell_type": "code",
   "execution_count": 69,
   "outputs": [
    {
     "data": {
      "text/plain": "                     date    HUFL   HULL   MUFL   MULL   LUFL   LULL      OT  \\\n8304  2017-06-12 00:00:00  10.047  2.210  7.960  2.452  1.919 -0.731  15.336   \n8305  2017-06-12 01:00:00   9.042  1.808  6.681  1.564  1.828 -0.731  15.054   \n8306  2017-06-12 02:00:00   9.310  1.875  7.356  2.203  1.736 -0.761  14.280   \n8307  2017-06-12 03:00:00   8.105  0.938  6.219  1.777  1.949 -0.670  13.858   \n8308  2017-06-12 04:00:00   8.439  1.474  5.757  1.741  1.919 -0.609  14.210   \n...                   ...     ...    ...    ...    ...    ...    ...     ...   \n11515 2017-10-23 19:00:00   8.707  1.005  4.797 -0.604  3.686  1.279  10.271   \n11516 2017-10-23 20:00:00   8.105  0.938  4.371 -0.569  3.533  1.279   9.708   \n11517 2017-10-23 21:00:00   7.167  1.206  4.087 -0.462  3.107  1.432   8.723   \n11518 2017-10-23 22:00:00   7.100  1.340  4.015 -0.320  2.772  1.310   8.864   \n11519 2017-10-23 23:00:00   9.176  2.746  7.107  1.635  2.650  1.097   9.004   \n\n       unique_id  \n8304        8304  \n8305        8305  \n8306        8306  \n8307        8307  \n8308        8308  \n...          ...  \n11515      11515  \n11516      11516  \n11517      11517  \n11518      11518  \n11519      11519  \n\n[3216 rows x 9 columns]",
      "text/html": "<div>\n<style scoped>\n    .dataframe tbody tr th:only-of-type {\n        vertical-align: middle;\n    }\n\n    .dataframe tbody tr th {\n        vertical-align: top;\n    }\n\n    .dataframe thead th {\n        text-align: right;\n    }\n</style>\n<table border=\"1\" class=\"dataframe\">\n  <thead>\n    <tr style=\"text-align: right;\">\n      <th></th>\n      <th>date</th>\n      <th>HUFL</th>\n      <th>HULL</th>\n      <th>MUFL</th>\n      <th>MULL</th>\n      <th>LUFL</th>\n      <th>LULL</th>\n      <th>OT</th>\n      <th>unique_id</th>\n    </tr>\n  </thead>\n  <tbody>\n    <tr>\n      <th>8304</th>\n      <td>2017-06-12 00:00:00</td>\n      <td>10.047</td>\n      <td>2.210</td>\n      <td>7.960</td>\n      <td>2.452</td>\n      <td>1.919</td>\n      <td>-0.731</td>\n      <td>15.336</td>\n      <td>8304</td>\n    </tr>\n    <tr>\n      <th>8305</th>\n      <td>2017-06-12 01:00:00</td>\n      <td>9.042</td>\n      <td>1.808</td>\n      <td>6.681</td>\n      <td>1.564</td>\n      <td>1.828</td>\n      <td>-0.731</td>\n      <td>15.054</td>\n      <td>8305</td>\n    </tr>\n    <tr>\n      <th>8306</th>\n      <td>2017-06-12 02:00:00</td>\n      <td>9.310</td>\n      <td>1.875</td>\n      <td>7.356</td>\n      <td>2.203</td>\n      <td>1.736</td>\n      <td>-0.761</td>\n      <td>14.280</td>\n      <td>8306</td>\n    </tr>\n    <tr>\n      <th>8307</th>\n      <td>2017-06-12 03:00:00</td>\n      <td>8.105</td>\n      <td>0.938</td>\n      <td>6.219</td>\n      <td>1.777</td>\n      <td>1.949</td>\n      <td>-0.670</td>\n      <td>13.858</td>\n      <td>8307</td>\n    </tr>\n    <tr>\n      <th>8308</th>\n      <td>2017-06-12 04:00:00</td>\n      <td>8.439</td>\n      <td>1.474</td>\n      <td>5.757</td>\n      <td>1.741</td>\n      <td>1.919</td>\n      <td>-0.609</td>\n      <td>14.210</td>\n      <td>8308</td>\n    </tr>\n    <tr>\n      <th>...</th>\n      <td>...</td>\n      <td>...</td>\n      <td>...</td>\n      <td>...</td>\n      <td>...</td>\n      <td>...</td>\n      <td>...</td>\n      <td>...</td>\n      <td>...</td>\n    </tr>\n    <tr>\n      <th>11515</th>\n      <td>2017-10-23 19:00:00</td>\n      <td>8.707</td>\n      <td>1.005</td>\n      <td>4.797</td>\n      <td>-0.604</td>\n      <td>3.686</td>\n      <td>1.279</td>\n      <td>10.271</td>\n      <td>11515</td>\n    </tr>\n    <tr>\n      <th>11516</th>\n      <td>2017-10-23 20:00:00</td>\n      <td>8.105</td>\n      <td>0.938</td>\n      <td>4.371</td>\n      <td>-0.569</td>\n      <td>3.533</td>\n      <td>1.279</td>\n      <td>9.708</td>\n      <td>11516</td>\n    </tr>\n    <tr>\n      <th>11517</th>\n      <td>2017-10-23 21:00:00</td>\n      <td>7.167</td>\n      <td>1.206</td>\n      <td>4.087</td>\n      <td>-0.462</td>\n      <td>3.107</td>\n      <td>1.432</td>\n      <td>8.723</td>\n      <td>11517</td>\n    </tr>\n    <tr>\n      <th>11518</th>\n      <td>2017-10-23 22:00:00</td>\n      <td>7.100</td>\n      <td>1.340</td>\n      <td>4.015</td>\n      <td>-0.320</td>\n      <td>2.772</td>\n      <td>1.310</td>\n      <td>8.864</td>\n      <td>11518</td>\n    </tr>\n    <tr>\n      <th>11519</th>\n      <td>2017-10-23 23:00:00</td>\n      <td>9.176</td>\n      <td>2.746</td>\n      <td>7.107</td>\n      <td>1.635</td>\n      <td>2.650</td>\n      <td>1.097</td>\n      <td>9.004</td>\n      <td>11519</td>\n    </tr>\n  </tbody>\n</table>\n<p>3216 rows × 9 columns</p>\n</div>"
     },
     "execution_count": 69,
     "metadata": {},
     "output_type": "execute_result"
    }
   ],
   "source": [
    "valid"
   ],
   "metadata": {
    "collapsed": false,
    "ExecuteTime": {
     "end_time": "2023-10-31T11:52:12.055468Z",
     "start_time": "2023-10-31T11:52:12.051586Z"
    }
   },
   "id": "f1a05e8d52c6fee1"
  },
  {
   "cell_type": "code",
   "execution_count": 55,
   "outputs": [
    {
     "name": "stdout",
     "output_type": "stream",
     "text": [
      "Index(['date', 'HUFL', 'HULL', 'MUFL', 'MULL', 'LUFL', 'LULL', 'OT',\n",
      "       'unique_id'],\n",
      "      dtype='object')\n",
      "Index(['date', 'HUFL', 'HULL', 'MUFL', 'MULL', 'LUFL', 'LULL', 'OT',\n",
      "       'unique_id'],\n",
      "      dtype='object')\n",
      "Index(['date', 'HUFL', 'HULL', 'MUFL', 'MULL', 'LUFL', 'LULL', 'OT',\n",
      "       'unique_id'],\n",
      "      dtype='object')\n"
     ]
    }
   ],
   "source": [
    "print(train.columns)\n",
    "print(valid.columns)\n",
    "print(test.columns)"
   ],
   "metadata": {
    "collapsed": false,
    "ExecuteTime": {
     "end_time": "2023-10-31T11:37:45.625023Z",
     "start_time": "2023-10-31T11:37:45.619804Z"
    }
   },
   "id": "818069f0bbf2da70"
  },
  {
   "cell_type": "markdown",
   "source": [
    "# Training"
   ],
   "metadata": {
    "collapsed": false
   },
   "id": "da3d970c2c511e89"
  },
  {
   "cell_type": "code",
   "execution_count": 62,
   "outputs": [
    {
     "data": {
      "text/plain": "MLForecast(models=[XGBRegressor], freq=<Hour>, lag_features=['lag1'], date_features=['hour', 'dayofweek', 'month'], num_threads=6)"
     },
     "execution_count": 62,
     "metadata": {},
     "output_type": "execute_result"
    }
   ],
   "source": [
    "models = [XGBRegressor(random_state=0, n_estimators=100)]\n",
    "\n",
    "model = MLForecast(models=models,\n",
    "                   freq='H',\n",
    "                   lags=[1],\n",
    "                   #lag_transforms={\n",
    "                   #    1: [(rolling_mean, 7), (rolling_max, 7), (rolling_min, 7)],\n",
    "                   #},\n",
    "                   date_features=['hour', 'dayofweek', 'month'],\n",
    "                   num_threads=6)\n",
    "\n",
    "\n",
    "model.fit(train, id_col='unique_id', time_col='date', target_col='OT', static_features=['HUFL', 'HULL', 'MUFL', 'MULL', 'LUFL', 'LULL'])"
   ],
   "metadata": {
    "collapsed": false,
    "ExecuteTime": {
     "end_time": "2023-10-31T11:47:46.098789Z",
     "start_time": "2023-10-31T11:47:46.064559Z"
    }
   },
   "id": "6cd852d5d8c0ecf4"
  },
  {
   "cell_type": "code",
   "execution_count": 63,
   "outputs": [],
   "source": [
    "# Predict\n",
    "predictions = model.predict(horizon=number_of_days_in_valid)"
   ],
   "metadata": {
    "collapsed": false,
    "ExecuteTime": {
     "end_time": "2023-10-31T11:50:49.992927Z",
     "start_time": "2023-10-31T11:47:47.000625Z"
    }
   },
   "id": "dc41fd05f822e4c8"
  },
  {
   "cell_type": "code",
   "execution_count": 67,
   "outputs": [
    {
     "data": {
      "text/plain": "       unique_id                date  XGBRegressor\n8304           2 2016-09-17 03:00:00           0.0\n8305           2 2016-09-17 04:00:00           0.0\n8306           2 2016-09-17 05:00:00           0.0\n8307           2 2016-09-17 06:00:00           0.0\n8308           2 2016-09-17 07:00:00           0.0\n...          ...                 ...           ...\n11515          3 2016-09-16 23:00:00           0.0\n11516          3 2016-09-17 00:00:00           0.0\n11517          3 2016-09-17 01:00:00           0.0\n11518          3 2016-09-17 02:00:00           0.0\n11519          3 2016-09-17 03:00:00           0.0\n\n[3216 rows x 3 columns]",
      "text/html": "<div>\n<style scoped>\n    .dataframe tbody tr th:only-of-type {\n        vertical-align: middle;\n    }\n\n    .dataframe tbody tr th {\n        vertical-align: top;\n    }\n\n    .dataframe thead th {\n        text-align: right;\n    }\n</style>\n<table border=\"1\" class=\"dataframe\">\n  <thead>\n    <tr style=\"text-align: right;\">\n      <th></th>\n      <th>unique_id</th>\n      <th>date</th>\n      <th>XGBRegressor</th>\n    </tr>\n  </thead>\n  <tbody>\n    <tr>\n      <th>8304</th>\n      <td>2</td>\n      <td>2016-09-17 03:00:00</td>\n      <td>0.0</td>\n    </tr>\n    <tr>\n      <th>8305</th>\n      <td>2</td>\n      <td>2016-09-17 04:00:00</td>\n      <td>0.0</td>\n    </tr>\n    <tr>\n      <th>8306</th>\n      <td>2</td>\n      <td>2016-09-17 05:00:00</td>\n      <td>0.0</td>\n    </tr>\n    <tr>\n      <th>8307</th>\n      <td>2</td>\n      <td>2016-09-17 06:00:00</td>\n      <td>0.0</td>\n    </tr>\n    <tr>\n      <th>8308</th>\n      <td>2</td>\n      <td>2016-09-17 07:00:00</td>\n      <td>0.0</td>\n    </tr>\n    <tr>\n      <th>...</th>\n      <td>...</td>\n      <td>...</td>\n      <td>...</td>\n    </tr>\n    <tr>\n      <th>11515</th>\n      <td>3</td>\n      <td>2016-09-16 23:00:00</td>\n      <td>0.0</td>\n    </tr>\n    <tr>\n      <th>11516</th>\n      <td>3</td>\n      <td>2016-09-17 00:00:00</td>\n      <td>0.0</td>\n    </tr>\n    <tr>\n      <th>11517</th>\n      <td>3</td>\n      <td>2016-09-17 01:00:00</td>\n      <td>0.0</td>\n    </tr>\n    <tr>\n      <th>11518</th>\n      <td>3</td>\n      <td>2016-09-17 02:00:00</td>\n      <td>0.0</td>\n    </tr>\n    <tr>\n      <th>11519</th>\n      <td>3</td>\n      <td>2016-09-17 03:00:00</td>\n      <td>0.0</td>\n    </tr>\n  </tbody>\n</table>\n<p>3216 rows × 3 columns</p>\n</div>"
     },
     "execution_count": 67,
     "metadata": {},
     "output_type": "execute_result"
    }
   ],
   "source": [
    "predictions[8304:11520]"
   ],
   "metadata": {
    "collapsed": false,
    "ExecuteTime": {
     "end_time": "2023-10-31T11:51:47.962608Z",
     "start_time": "2023-10-31T11:51:47.959314Z"
    }
   },
   "id": "2b837f5a33d82ee0"
  },
  {
   "cell_type": "code",
   "execution_count": 64,
   "outputs": [
    {
     "name": "stdout",
     "output_type": "stream",
     "text": [
      "          unique_id                date  XGBRegressor  OT\n",
      "0                 0 2016-07-01 01:00:00           0.0 NaN\n",
      "1                 0 2016-07-01 02:00:00           0.0 NaN\n",
      "2                 0 2016-07-01 03:00:00           0.0 NaN\n",
      "3                 0 2016-07-01 04:00:00           0.0 NaN\n",
      "4                 0 2016-07-01 05:00:00           0.0 NaN\n",
      "...             ...                 ...           ...  ..\n",
      "27786235       8639 2017-11-06 19:00:00           0.0 NaN\n",
      "27786236       8639 2017-11-06 20:00:00           0.0 NaN\n",
      "27786237       8639 2017-11-06 21:00:00           0.0 NaN\n",
      "27786238       8639 2017-11-06 22:00:00           0.0 NaN\n",
      "27786239       8639 2017-11-06 23:00:00           0.0 NaN\n",
      "\n",
      "[27786240 rows x 4 columns]\n"
     ]
    }
   ],
   "source": [
    "# Merge predictions with actuals for validation (if desired)\n",
    "merged = predictions.merge(valid[['unique_id', 'date', 'OT']], on=['unique_id', 'date'], how='left')\n",
    "merged.rename(columns={'OT_x': 'Prediction', 'OT_y': 'Actual'}, inplace=True)\n",
    "\n",
    "print(merged)"
   ],
   "metadata": {
    "collapsed": false,
    "ExecuteTime": {
     "end_time": "2023-10-31T11:51:00.668198Z",
     "start_time": "2023-10-31T11:50:53.042424Z"
    }
   },
   "id": "5becd7ac9d483adf"
  },
  {
   "cell_type": "code",
   "execution_count": 65,
   "outputs": [
    {
     "ename": "KeyError",
     "evalue": "'y'",
     "output_type": "error",
     "traceback": [
      "\u001B[0;31m---------------------------------------------------------------------------\u001B[0m",
      "\u001B[0;31mKeyError\u001B[0m                                  Traceback (most recent call last)",
      "File \u001B[0;32m~/opt/anaconda3/envs/rm/lib/python3.11/site-packages/pandas/core/indexes/base.py:3653\u001B[0m, in \u001B[0;36mIndex.get_loc\u001B[0;34m(self, key)\u001B[0m\n\u001B[1;32m   3652\u001B[0m \u001B[38;5;28;01mtry\u001B[39;00m:\n\u001B[0;32m-> 3653\u001B[0m     \u001B[38;5;28;01mreturn\u001B[39;00m \u001B[38;5;28;43mself\u001B[39;49m\u001B[38;5;241;43m.\u001B[39;49m\u001B[43m_engine\u001B[49m\u001B[38;5;241;43m.\u001B[39;49m\u001B[43mget_loc\u001B[49m\u001B[43m(\u001B[49m\u001B[43mcasted_key\u001B[49m\u001B[43m)\u001B[49m\n\u001B[1;32m   3654\u001B[0m \u001B[38;5;28;01mexcept\u001B[39;00m \u001B[38;5;167;01mKeyError\u001B[39;00m \u001B[38;5;28;01mas\u001B[39;00m err:\n",
      "File \u001B[0;32m~/opt/anaconda3/envs/rm/lib/python3.11/site-packages/pandas/_libs/index.pyx:147\u001B[0m, in \u001B[0;36mpandas._libs.index.IndexEngine.get_loc\u001B[0;34m()\u001B[0m\n",
      "File \u001B[0;32m~/opt/anaconda3/envs/rm/lib/python3.11/site-packages/pandas/_libs/index.pyx:176\u001B[0m, in \u001B[0;36mpandas._libs.index.IndexEngine.get_loc\u001B[0;34m()\u001B[0m\n",
      "File \u001B[0;32mpandas/_libs/hashtable_class_helper.pxi:7080\u001B[0m, in \u001B[0;36mpandas._libs.hashtable.PyObjectHashTable.get_item\u001B[0;34m()\u001B[0m\n",
      "File \u001B[0;32mpandas/_libs/hashtable_class_helper.pxi:7088\u001B[0m, in \u001B[0;36mpandas._libs.hashtable.PyObjectHashTable.get_item\u001B[0;34m()\u001B[0m\n",
      "\u001B[0;31mKeyError\u001B[0m: 'y'",
      "\nThe above exception was the direct cause of the following exception:\n",
      "\u001B[0;31mKeyError\u001B[0m                                  Traceback (most recent call last)",
      "Cell \u001B[0;32mIn[65], line 2\u001B[0m\n\u001B[1;32m      1\u001B[0m \u001B[38;5;28;01mfrom\u001B[39;00m \u001B[38;5;21;01msklearn\u001B[39;00m\u001B[38;5;21;01m.\u001B[39;00m\u001B[38;5;21;01mmetrics\u001B[39;00m \u001B[38;5;28;01mimport\u001B[39;00m mean_absolute_percentage_error\n\u001B[0;32m----> 2\u001B[0m mean_absolute_percentage_error(\u001B[43mmerged\u001B[49m\u001B[43m[\u001B[49m\u001B[38;5;124;43m'\u001B[39;49m\u001B[38;5;124;43my\u001B[39;49m\u001B[38;5;124;43m'\u001B[39;49m\u001B[43m]\u001B[49m, merged[\u001B[38;5;124m'\u001B[39m\u001B[38;5;124mXGBRegressor\u001B[39m\u001B[38;5;124m'\u001B[39m])\n",
      "File \u001B[0;32m~/opt/anaconda3/envs/rm/lib/python3.11/site-packages/pandas/core/frame.py:3761\u001B[0m, in \u001B[0;36mDataFrame.__getitem__\u001B[0;34m(self, key)\u001B[0m\n\u001B[1;32m   3759\u001B[0m \u001B[38;5;28;01mif\u001B[39;00m \u001B[38;5;28mself\u001B[39m\u001B[38;5;241m.\u001B[39mcolumns\u001B[38;5;241m.\u001B[39mnlevels \u001B[38;5;241m>\u001B[39m \u001B[38;5;241m1\u001B[39m:\n\u001B[1;32m   3760\u001B[0m     \u001B[38;5;28;01mreturn\u001B[39;00m \u001B[38;5;28mself\u001B[39m\u001B[38;5;241m.\u001B[39m_getitem_multilevel(key)\n\u001B[0;32m-> 3761\u001B[0m indexer \u001B[38;5;241m=\u001B[39m \u001B[38;5;28;43mself\u001B[39;49m\u001B[38;5;241;43m.\u001B[39;49m\u001B[43mcolumns\u001B[49m\u001B[38;5;241;43m.\u001B[39;49m\u001B[43mget_loc\u001B[49m\u001B[43m(\u001B[49m\u001B[43mkey\u001B[49m\u001B[43m)\u001B[49m\n\u001B[1;32m   3762\u001B[0m \u001B[38;5;28;01mif\u001B[39;00m is_integer(indexer):\n\u001B[1;32m   3763\u001B[0m     indexer \u001B[38;5;241m=\u001B[39m [indexer]\n",
      "File \u001B[0;32m~/opt/anaconda3/envs/rm/lib/python3.11/site-packages/pandas/core/indexes/base.py:3655\u001B[0m, in \u001B[0;36mIndex.get_loc\u001B[0;34m(self, key)\u001B[0m\n\u001B[1;32m   3653\u001B[0m     \u001B[38;5;28;01mreturn\u001B[39;00m \u001B[38;5;28mself\u001B[39m\u001B[38;5;241m.\u001B[39m_engine\u001B[38;5;241m.\u001B[39mget_loc(casted_key)\n\u001B[1;32m   3654\u001B[0m \u001B[38;5;28;01mexcept\u001B[39;00m \u001B[38;5;167;01mKeyError\u001B[39;00m \u001B[38;5;28;01mas\u001B[39;00m err:\n\u001B[0;32m-> 3655\u001B[0m     \u001B[38;5;28;01mraise\u001B[39;00m \u001B[38;5;167;01mKeyError\u001B[39;00m(key) \u001B[38;5;28;01mfrom\u001B[39;00m \u001B[38;5;21;01merr\u001B[39;00m\n\u001B[1;32m   3656\u001B[0m \u001B[38;5;28;01mexcept\u001B[39;00m \u001B[38;5;167;01mTypeError\u001B[39;00m:\n\u001B[1;32m   3657\u001B[0m     \u001B[38;5;66;03m# If we have a listlike key, _check_indexing_error will raise\u001B[39;00m\n\u001B[1;32m   3658\u001B[0m     \u001B[38;5;66;03m#  InvalidIndexError. Otherwise we fall through and re-raise\u001B[39;00m\n\u001B[1;32m   3659\u001B[0m     \u001B[38;5;66;03m#  the TypeError.\u001B[39;00m\n\u001B[1;32m   3660\u001B[0m     \u001B[38;5;28mself\u001B[39m\u001B[38;5;241m.\u001B[39m_check_indexing_error(key)\n",
      "\u001B[0;31mKeyError\u001B[0m: 'y'"
     ]
    }
   ],
   "source": [
    "from sklearn.metrics import mean_absolute_percentage_error\n",
    "mean_absolute_percentage_error(merged['y'], merged['XGBRegressor'])"
   ],
   "metadata": {
    "collapsed": false,
    "ExecuteTime": {
     "end_time": "2023-10-31T11:51:10.693019Z",
     "start_time": "2023-10-31T11:51:10.634693Z"
    }
   },
   "id": "a578218318a3c082"
  },
  {
   "cell_type": "code",
   "execution_count": null,
   "outputs": [],
   "source": [],
   "metadata": {
    "collapsed": false
   },
   "id": "2e8810bd4e47a915"
  }
 ],
 "metadata": {
  "kernelspec": {
   "display_name": "Python 3",
   "language": "python",
   "name": "python3"
  },
  "language_info": {
   "codemirror_mode": {
    "name": "ipython",
    "version": 2
   },
   "file_extension": ".py",
   "mimetype": "text/x-python",
   "name": "python",
   "nbconvert_exporter": "python",
   "pygments_lexer": "ipython2",
   "version": "2.7.6"
  }
 },
 "nbformat": 4,
 "nbformat_minor": 5
}
