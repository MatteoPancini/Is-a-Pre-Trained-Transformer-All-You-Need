{
 "cells": [
  {
   "cell_type": "code",
   "execution_count": 2,
   "id": "initial_id",
   "metadata": {
    "collapsed": true,
    "ExecuteTime": {
     "end_time": "2023-10-31T14:52:35.461536Z",
     "start_time": "2023-10-31T14:52:35.456089Z"
    }
   },
   "outputs": [],
   "source": [
    "import pandas as pd\n",
    "import numpy as np\n",
    "from matplotlib import pyplot as plt\n",
    "import os\n",
    "from xgboost import XGBRegressor\n",
    "from mlforecast import MLForecast\n",
    "from window_ops.rolling import rolling_mean, rolling_max, rolling_min"
   ]
  },
  {
   "cell_type": "code",
   "execution_count": 3,
   "outputs": [
    {
     "data": {
      "text/plain": "                     date         OT  unique_id\n0     2016-07-01 00:00:00  30.531000          0\n1     2016-07-01 01:00:00  27.787001          1\n2     2016-07-01 02:00:00  27.787001          2\n3     2016-07-01 03:00:00  25.044001          3\n4     2016-07-01 04:00:00  21.948000          4\n...                   ...        ...        ...\n17415 2018-06-26 15:00:00  10.904000      17415\n17416 2018-06-26 16:00:00  11.044000      17416\n17417 2018-06-26 17:00:00  10.271000      17417\n17418 2018-06-26 18:00:00   9.778000      17418\n17419 2018-06-26 19:00:00   9.567000      17419\n\n[17420 rows x 3 columns]",
      "text/html": "<div>\n<style scoped>\n    .dataframe tbody tr th:only-of-type {\n        vertical-align: middle;\n    }\n\n    .dataframe tbody tr th {\n        vertical-align: top;\n    }\n\n    .dataframe thead th {\n        text-align: right;\n    }\n</style>\n<table border=\"1\" class=\"dataframe\">\n  <thead>\n    <tr style=\"text-align: right;\">\n      <th></th>\n      <th>date</th>\n      <th>OT</th>\n      <th>unique_id</th>\n    </tr>\n  </thead>\n  <tbody>\n    <tr>\n      <th>0</th>\n      <td>2016-07-01 00:00:00</td>\n      <td>30.531000</td>\n      <td>0</td>\n    </tr>\n    <tr>\n      <th>1</th>\n      <td>2016-07-01 01:00:00</td>\n      <td>27.787001</td>\n      <td>1</td>\n    </tr>\n    <tr>\n      <th>2</th>\n      <td>2016-07-01 02:00:00</td>\n      <td>27.787001</td>\n      <td>2</td>\n    </tr>\n    <tr>\n      <th>3</th>\n      <td>2016-07-01 03:00:00</td>\n      <td>25.044001</td>\n      <td>3</td>\n    </tr>\n    <tr>\n      <th>4</th>\n      <td>2016-07-01 04:00:00</td>\n      <td>21.948000</td>\n      <td>4</td>\n    </tr>\n    <tr>\n      <th>...</th>\n      <td>...</td>\n      <td>...</td>\n      <td>...</td>\n    </tr>\n    <tr>\n      <th>17415</th>\n      <td>2018-06-26 15:00:00</td>\n      <td>10.904000</td>\n      <td>17415</td>\n    </tr>\n    <tr>\n      <th>17416</th>\n      <td>2018-06-26 16:00:00</td>\n      <td>11.044000</td>\n      <td>17416</td>\n    </tr>\n    <tr>\n      <th>17417</th>\n      <td>2018-06-26 17:00:00</td>\n      <td>10.271000</td>\n      <td>17417</td>\n    </tr>\n    <tr>\n      <th>17418</th>\n      <td>2018-06-26 18:00:00</td>\n      <td>9.778000</td>\n      <td>17418</td>\n    </tr>\n    <tr>\n      <th>17419</th>\n      <td>2018-06-26 19:00:00</td>\n      <td>9.567000</td>\n      <td>17419</td>\n    </tr>\n  </tbody>\n</table>\n<p>17420 rows × 3 columns</p>\n</div>"
     },
     "execution_count": 3,
     "metadata": {},
     "output_type": "execute_result"
    }
   ],
   "source": [
    "data = pd.read_csv('../datasets/ETT-small/ETTh1.csv', parse_dates=['date'])\n",
    "#delete index column and create id column for each time series\n",
    "data['unique_id'] = data.index\n",
    "# transform date column into datetime format\n",
    "data['date'] = pd.to_datetime(data['date'], format='%Y-%m-%d %H:%M:%S')\n",
    "data.drop(['HUFL', 'HULL', 'MUFL', 'MULL', 'LUFL', 'LULL'], axis=1, inplace=True)\n",
    "data"
   ],
   "metadata": {
    "collapsed": false,
    "ExecuteTime": {
     "end_time": "2023-10-31T14:52:36.236575Z",
     "start_time": "2023-10-31T14:52:36.182410Z"
    }
   },
   "id": "b0ce163c33ee0d49"
  },
  {
   "cell_type": "code",
   "execution_count": 4,
   "outputs": [],
   "source": [
    "train = data[:8640]\n",
    "valid = data[8304:11520]\n",
    "test = data[11184:14400]\n",
    "\n",
    "number_of_days_in_valid = valid[\"date\"].nunique()"
   ],
   "metadata": {
    "collapsed": false,
    "ExecuteTime": {
     "end_time": "2023-10-31T14:52:39.605418Z",
     "start_time": "2023-10-31T14:52:39.597768Z"
    }
   },
   "id": "aa205464c8f2b307"
  },
  {
   "cell_type": "code",
   "execution_count": 5,
   "outputs": [
    {
     "data": {
      "text/plain": "                    date         OT  unique_id\n0    2016-07-01 00:00:00  30.531000          0\n1    2016-07-01 01:00:00  27.787001          1\n2    2016-07-01 02:00:00  27.787001          2\n3    2016-07-01 03:00:00  25.044001          3\n4    2016-07-01 04:00:00  21.948000          4\n...                  ...        ...        ...\n8635 2017-06-25 19:00:00  21.174000       8635\n8636 2017-06-25 20:00:00  20.612000       8636\n8637 2017-06-25 21:00:00  21.034000       8637\n8638 2017-06-25 22:00:00  21.455999       8638\n8639 2017-06-25 23:00:00  20.752001       8639\n\n[8640 rows x 3 columns]",
      "text/html": "<div>\n<style scoped>\n    .dataframe tbody tr th:only-of-type {\n        vertical-align: middle;\n    }\n\n    .dataframe tbody tr th {\n        vertical-align: top;\n    }\n\n    .dataframe thead th {\n        text-align: right;\n    }\n</style>\n<table border=\"1\" class=\"dataframe\">\n  <thead>\n    <tr style=\"text-align: right;\">\n      <th></th>\n      <th>date</th>\n      <th>OT</th>\n      <th>unique_id</th>\n    </tr>\n  </thead>\n  <tbody>\n    <tr>\n      <th>0</th>\n      <td>2016-07-01 00:00:00</td>\n      <td>30.531000</td>\n      <td>0</td>\n    </tr>\n    <tr>\n      <th>1</th>\n      <td>2016-07-01 01:00:00</td>\n      <td>27.787001</td>\n      <td>1</td>\n    </tr>\n    <tr>\n      <th>2</th>\n      <td>2016-07-01 02:00:00</td>\n      <td>27.787001</td>\n      <td>2</td>\n    </tr>\n    <tr>\n      <th>3</th>\n      <td>2016-07-01 03:00:00</td>\n      <td>25.044001</td>\n      <td>3</td>\n    </tr>\n    <tr>\n      <th>4</th>\n      <td>2016-07-01 04:00:00</td>\n      <td>21.948000</td>\n      <td>4</td>\n    </tr>\n    <tr>\n      <th>...</th>\n      <td>...</td>\n      <td>...</td>\n      <td>...</td>\n    </tr>\n    <tr>\n      <th>8635</th>\n      <td>2017-06-25 19:00:00</td>\n      <td>21.174000</td>\n      <td>8635</td>\n    </tr>\n    <tr>\n      <th>8636</th>\n      <td>2017-06-25 20:00:00</td>\n      <td>20.612000</td>\n      <td>8636</td>\n    </tr>\n    <tr>\n      <th>8637</th>\n      <td>2017-06-25 21:00:00</td>\n      <td>21.034000</td>\n      <td>8637</td>\n    </tr>\n    <tr>\n      <th>8638</th>\n      <td>2017-06-25 22:00:00</td>\n      <td>21.455999</td>\n      <td>8638</td>\n    </tr>\n    <tr>\n      <th>8639</th>\n      <td>2017-06-25 23:00:00</td>\n      <td>20.752001</td>\n      <td>8639</td>\n    </tr>\n  </tbody>\n</table>\n<p>8640 rows × 3 columns</p>\n</div>"
     },
     "execution_count": 5,
     "metadata": {},
     "output_type": "execute_result"
    }
   ],
   "source": [
    "train"
   ],
   "metadata": {
    "collapsed": false,
    "ExecuteTime": {
     "end_time": "2023-10-31T14:52:40.411143Z",
     "start_time": "2023-10-31T14:52:40.407058Z"
    }
   },
   "id": "157050ebe99e13af"
  },
  {
   "cell_type": "code",
   "execution_count": 6,
   "outputs": [
    {
     "data": {
      "text/plain": "                     date      OT  unique_id\n8304  2017-06-12 00:00:00  15.336       8304\n8305  2017-06-12 01:00:00  15.054       8305\n8306  2017-06-12 02:00:00  14.280       8306\n8307  2017-06-12 03:00:00  13.858       8307\n8308  2017-06-12 04:00:00  14.210       8308\n...                   ...     ...        ...\n11515 2017-10-23 19:00:00  10.271      11515\n11516 2017-10-23 20:00:00   9.708      11516\n11517 2017-10-23 21:00:00   8.723      11517\n11518 2017-10-23 22:00:00   8.864      11518\n11519 2017-10-23 23:00:00   9.004      11519\n\n[3216 rows x 3 columns]",
      "text/html": "<div>\n<style scoped>\n    .dataframe tbody tr th:only-of-type {\n        vertical-align: middle;\n    }\n\n    .dataframe tbody tr th {\n        vertical-align: top;\n    }\n\n    .dataframe thead th {\n        text-align: right;\n    }\n</style>\n<table border=\"1\" class=\"dataframe\">\n  <thead>\n    <tr style=\"text-align: right;\">\n      <th></th>\n      <th>date</th>\n      <th>OT</th>\n      <th>unique_id</th>\n    </tr>\n  </thead>\n  <tbody>\n    <tr>\n      <th>8304</th>\n      <td>2017-06-12 00:00:00</td>\n      <td>15.336</td>\n      <td>8304</td>\n    </tr>\n    <tr>\n      <th>8305</th>\n      <td>2017-06-12 01:00:00</td>\n      <td>15.054</td>\n      <td>8305</td>\n    </tr>\n    <tr>\n      <th>8306</th>\n      <td>2017-06-12 02:00:00</td>\n      <td>14.280</td>\n      <td>8306</td>\n    </tr>\n    <tr>\n      <th>8307</th>\n      <td>2017-06-12 03:00:00</td>\n      <td>13.858</td>\n      <td>8307</td>\n    </tr>\n    <tr>\n      <th>8308</th>\n      <td>2017-06-12 04:00:00</td>\n      <td>14.210</td>\n      <td>8308</td>\n    </tr>\n    <tr>\n      <th>...</th>\n      <td>...</td>\n      <td>...</td>\n      <td>...</td>\n    </tr>\n    <tr>\n      <th>11515</th>\n      <td>2017-10-23 19:00:00</td>\n      <td>10.271</td>\n      <td>11515</td>\n    </tr>\n    <tr>\n      <th>11516</th>\n      <td>2017-10-23 20:00:00</td>\n      <td>9.708</td>\n      <td>11516</td>\n    </tr>\n    <tr>\n      <th>11517</th>\n      <td>2017-10-23 21:00:00</td>\n      <td>8.723</td>\n      <td>11517</td>\n    </tr>\n    <tr>\n      <th>11518</th>\n      <td>2017-10-23 22:00:00</td>\n      <td>8.864</td>\n      <td>11518</td>\n    </tr>\n    <tr>\n      <th>11519</th>\n      <td>2017-10-23 23:00:00</td>\n      <td>9.004</td>\n      <td>11519</td>\n    </tr>\n  </tbody>\n</table>\n<p>3216 rows × 3 columns</p>\n</div>"
     },
     "execution_count": 6,
     "metadata": {},
     "output_type": "execute_result"
    }
   ],
   "source": [
    "valid"
   ],
   "metadata": {
    "collapsed": false,
    "ExecuteTime": {
     "end_time": "2023-10-31T14:52:41.481220Z",
     "start_time": "2023-10-31T14:52:41.466458Z"
    }
   },
   "id": "f1a05e8d52c6fee1"
  },
  {
   "cell_type": "code",
   "execution_count": 7,
   "outputs": [
    {
     "name": "stdout",
     "output_type": "stream",
     "text": [
      "Index(['date', 'OT', 'unique_id'], dtype='object')\n",
      "Index(['date', 'OT', 'unique_id'], dtype='object')\n",
      "Index(['date', 'OT', 'unique_id'], dtype='object')\n"
     ]
    }
   ],
   "source": [
    "print(train.columns)\n",
    "print(valid.columns)\n",
    "print(test.columns)"
   ],
   "metadata": {
    "collapsed": false,
    "ExecuteTime": {
     "end_time": "2023-10-31T14:52:42.402178Z",
     "start_time": "2023-10-31T14:52:42.387763Z"
    }
   },
   "id": "818069f0bbf2da70"
  },
  {
   "cell_type": "markdown",
   "source": [
    "# Training"
   ],
   "metadata": {
    "collapsed": false
   },
   "id": "da3d970c2c511e89"
  },
  {
   "cell_type": "code",
   "execution_count": 8,
   "outputs": [
    {
     "name": "stderr",
     "output_type": "stream",
     "text": [
      "/Users/matteopancini/opt/anaconda3/envs/rm/lib/python3.11/site-packages/xgboost/core.py:160: UserWarning: [15:52:52] WARNING: /Users/runner/work/xgboost/xgboost/src/common/error_msg.cc:52: Empty dataset at worker: 0\n",
      "  warnings.warn(smsg, UserWarning)\n"
     ]
    },
    {
     "data": {
      "text/plain": "MLForecast(models=[XGBRegressor], freq=<Hour>, lag_features=['lag1'], date_features=['hour', 'dayofweek', 'month'], num_threads=6)"
     },
     "execution_count": 8,
     "metadata": {},
     "output_type": "execute_result"
    }
   ],
   "source": [
    "models = [XGBRegressor(objective=\"reg:squarederror\", random_state=0, n_estimators=100)]\n",
    "\n",
    "model = MLForecast(models=models,\n",
    "                   freq='H',\n",
    "                   lags=[1],\n",
    "                   #lag_transforms={\n",
    "                   #    1: [(rolling_mean, 7), (rolling_max, 7), (rolling_min, 7)],\n",
    "                   #},\n",
    "                   date_features=['hour', 'dayofweek', 'month'],\n",
    "                   num_threads=6)\n",
    "\n",
    "\n",
    "model.fit(train, id_col='unique_id', time_col='date', target_col='OT', static_features=[])"
   ],
   "metadata": {
    "collapsed": false,
    "ExecuteTime": {
     "end_time": "2023-10-31T14:52:52.489543Z",
     "start_time": "2023-10-31T14:52:51.829201Z"
    }
   },
   "id": "6cd852d5d8c0ecf4"
  },
  {
   "cell_type": "code",
   "execution_count": 9,
   "outputs": [],
   "source": [
    "# Predict\n",
    "predictions = model.predict(horizon=number_of_days_in_valid)"
   ],
   "metadata": {
    "collapsed": false,
    "ExecuteTime": {
     "end_time": "2023-10-31T14:56:06.194731Z",
     "start_time": "2023-10-31T14:52:58.722450Z"
    }
   },
   "id": "dc41fd05f822e4c8"
  },
  {
   "cell_type": "code",
   "execution_count": 11,
   "outputs": [
    {
     "data": {
      "text/plain": "          unique_id                date  XGBRegressor\n0                 0 2016-07-01 01:00:00           0.0\n1                 0 2016-07-01 02:00:00           0.0\n2                 0 2016-07-01 03:00:00           0.0\n3                 0 2016-07-01 04:00:00           0.0\n4                 0 2016-07-01 05:00:00           0.0\n...             ...                 ...           ...\n27786235       8639 2017-11-06 19:00:00           0.0\n27786236       8639 2017-11-06 20:00:00           0.0\n27786237       8639 2017-11-06 21:00:00           0.0\n27786238       8639 2017-11-06 22:00:00           0.0\n27786239       8639 2017-11-06 23:00:00           0.0\n\n[27786240 rows x 3 columns]",
      "text/html": "<div>\n<style scoped>\n    .dataframe tbody tr th:only-of-type {\n        vertical-align: middle;\n    }\n\n    .dataframe tbody tr th {\n        vertical-align: top;\n    }\n\n    .dataframe thead th {\n        text-align: right;\n    }\n</style>\n<table border=\"1\" class=\"dataframe\">\n  <thead>\n    <tr style=\"text-align: right;\">\n      <th></th>\n      <th>unique_id</th>\n      <th>date</th>\n      <th>XGBRegressor</th>\n    </tr>\n  </thead>\n  <tbody>\n    <tr>\n      <th>0</th>\n      <td>0</td>\n      <td>2016-07-01 01:00:00</td>\n      <td>0.0</td>\n    </tr>\n    <tr>\n      <th>1</th>\n      <td>0</td>\n      <td>2016-07-01 02:00:00</td>\n      <td>0.0</td>\n    </tr>\n    <tr>\n      <th>2</th>\n      <td>0</td>\n      <td>2016-07-01 03:00:00</td>\n      <td>0.0</td>\n    </tr>\n    <tr>\n      <th>3</th>\n      <td>0</td>\n      <td>2016-07-01 04:00:00</td>\n      <td>0.0</td>\n    </tr>\n    <tr>\n      <th>4</th>\n      <td>0</td>\n      <td>2016-07-01 05:00:00</td>\n      <td>0.0</td>\n    </tr>\n    <tr>\n      <th>...</th>\n      <td>...</td>\n      <td>...</td>\n      <td>...</td>\n    </tr>\n    <tr>\n      <th>27786235</th>\n      <td>8639</td>\n      <td>2017-11-06 19:00:00</td>\n      <td>0.0</td>\n    </tr>\n    <tr>\n      <th>27786236</th>\n      <td>8639</td>\n      <td>2017-11-06 20:00:00</td>\n      <td>0.0</td>\n    </tr>\n    <tr>\n      <th>27786237</th>\n      <td>8639</td>\n      <td>2017-11-06 21:00:00</td>\n      <td>0.0</td>\n    </tr>\n    <tr>\n      <th>27786238</th>\n      <td>8639</td>\n      <td>2017-11-06 22:00:00</td>\n      <td>0.0</td>\n    </tr>\n    <tr>\n      <th>27786239</th>\n      <td>8639</td>\n      <td>2017-11-06 23:00:00</td>\n      <td>0.0</td>\n    </tr>\n  </tbody>\n</table>\n<p>27786240 rows × 3 columns</p>\n</div>"
     },
     "execution_count": 11,
     "metadata": {},
     "output_type": "execute_result"
    }
   ],
   "source": [
    "predictions"
   ],
   "metadata": {
    "collapsed": false,
    "ExecuteTime": {
     "end_time": "2023-10-31T14:56:30.885167Z",
     "start_time": "2023-10-31T14:56:30.880596Z"
    }
   },
   "id": "2b837f5a33d82ee0"
  },
  {
   "cell_type": "code",
   "execution_count": 64,
   "outputs": [
    {
     "name": "stdout",
     "output_type": "stream",
     "text": [
      "          unique_id                date  XGBRegressor  OT\n",
      "0                 0 2016-07-01 01:00:00           0.0 NaN\n",
      "1                 0 2016-07-01 02:00:00           0.0 NaN\n",
      "2                 0 2016-07-01 03:00:00           0.0 NaN\n",
      "3                 0 2016-07-01 04:00:00           0.0 NaN\n",
      "4                 0 2016-07-01 05:00:00           0.0 NaN\n",
      "...             ...                 ...           ...  ..\n",
      "27786235       8639 2017-11-06 19:00:00           0.0 NaN\n",
      "27786236       8639 2017-11-06 20:00:00           0.0 NaN\n",
      "27786237       8639 2017-11-06 21:00:00           0.0 NaN\n",
      "27786238       8639 2017-11-06 22:00:00           0.0 NaN\n",
      "27786239       8639 2017-11-06 23:00:00           0.0 NaN\n",
      "\n",
      "[27786240 rows x 4 columns]\n"
     ]
    }
   ],
   "source": [
    "# Merge predictions with actuals for validation (if desired)\n",
    "merged = predictions.merge(valid[['unique_id', 'date', 'OT']], on=['unique_id', 'date'], how='left')\n",
    "merged.rename(columns={'OT_x': 'Prediction', 'OT_y': 'Actual'}, inplace=True)\n",
    "\n",
    "print(merged)"
   ],
   "metadata": {
    "collapsed": false,
    "ExecuteTime": {
     "end_time": "2023-10-31T11:51:00.668198Z",
     "start_time": "2023-10-31T11:50:53.042424Z"
    }
   },
   "id": "5becd7ac9d483adf"
  },
  {
   "cell_type": "code",
   "execution_count": 65,
   "outputs": [
    {
     "ename": "KeyError",
     "evalue": "'y'",
     "output_type": "error",
     "traceback": [
      "\u001B[0;31m---------------------------------------------------------------------------\u001B[0m",
      "\u001B[0;31mKeyError\u001B[0m                                  Traceback (most recent call last)",
      "File \u001B[0;32m~/opt/anaconda3/envs/rm/lib/python3.11/site-packages/pandas/core/indexes/base.py:3653\u001B[0m, in \u001B[0;36mIndex.get_loc\u001B[0;34m(self, key)\u001B[0m\n\u001B[1;32m   3652\u001B[0m \u001B[38;5;28;01mtry\u001B[39;00m:\n\u001B[0;32m-> 3653\u001B[0m     \u001B[38;5;28;01mreturn\u001B[39;00m \u001B[38;5;28;43mself\u001B[39;49m\u001B[38;5;241;43m.\u001B[39;49m\u001B[43m_engine\u001B[49m\u001B[38;5;241;43m.\u001B[39;49m\u001B[43mget_loc\u001B[49m\u001B[43m(\u001B[49m\u001B[43mcasted_key\u001B[49m\u001B[43m)\u001B[49m\n\u001B[1;32m   3654\u001B[0m \u001B[38;5;28;01mexcept\u001B[39;00m \u001B[38;5;167;01mKeyError\u001B[39;00m \u001B[38;5;28;01mas\u001B[39;00m err:\n",
      "File \u001B[0;32m~/opt/anaconda3/envs/rm/lib/python3.11/site-packages/pandas/_libs/index.pyx:147\u001B[0m, in \u001B[0;36mpandas._libs.index.IndexEngine.get_loc\u001B[0;34m()\u001B[0m\n",
      "File \u001B[0;32m~/opt/anaconda3/envs/rm/lib/python3.11/site-packages/pandas/_libs/index.pyx:176\u001B[0m, in \u001B[0;36mpandas._libs.index.IndexEngine.get_loc\u001B[0;34m()\u001B[0m\n",
      "File \u001B[0;32mpandas/_libs/hashtable_class_helper.pxi:7080\u001B[0m, in \u001B[0;36mpandas._libs.hashtable.PyObjectHashTable.get_item\u001B[0;34m()\u001B[0m\n",
      "File \u001B[0;32mpandas/_libs/hashtable_class_helper.pxi:7088\u001B[0m, in \u001B[0;36mpandas._libs.hashtable.PyObjectHashTable.get_item\u001B[0;34m()\u001B[0m\n",
      "\u001B[0;31mKeyError\u001B[0m: 'y'",
      "\nThe above exception was the direct cause of the following exception:\n",
      "\u001B[0;31mKeyError\u001B[0m                                  Traceback (most recent call last)",
      "Cell \u001B[0;32mIn[65], line 2\u001B[0m\n\u001B[1;32m      1\u001B[0m \u001B[38;5;28;01mfrom\u001B[39;00m \u001B[38;5;21;01msklearn\u001B[39;00m\u001B[38;5;21;01m.\u001B[39;00m\u001B[38;5;21;01mmetrics\u001B[39;00m \u001B[38;5;28;01mimport\u001B[39;00m mean_absolute_percentage_error\n\u001B[0;32m----> 2\u001B[0m mean_absolute_percentage_error(\u001B[43mmerged\u001B[49m\u001B[43m[\u001B[49m\u001B[38;5;124;43m'\u001B[39;49m\u001B[38;5;124;43my\u001B[39;49m\u001B[38;5;124;43m'\u001B[39;49m\u001B[43m]\u001B[49m, merged[\u001B[38;5;124m'\u001B[39m\u001B[38;5;124mXGBRegressor\u001B[39m\u001B[38;5;124m'\u001B[39m])\n",
      "File \u001B[0;32m~/opt/anaconda3/envs/rm/lib/python3.11/site-packages/pandas/core/frame.py:3761\u001B[0m, in \u001B[0;36mDataFrame.__getitem__\u001B[0;34m(self, key)\u001B[0m\n\u001B[1;32m   3759\u001B[0m \u001B[38;5;28;01mif\u001B[39;00m \u001B[38;5;28mself\u001B[39m\u001B[38;5;241m.\u001B[39mcolumns\u001B[38;5;241m.\u001B[39mnlevels \u001B[38;5;241m>\u001B[39m \u001B[38;5;241m1\u001B[39m:\n\u001B[1;32m   3760\u001B[0m     \u001B[38;5;28;01mreturn\u001B[39;00m \u001B[38;5;28mself\u001B[39m\u001B[38;5;241m.\u001B[39m_getitem_multilevel(key)\n\u001B[0;32m-> 3761\u001B[0m indexer \u001B[38;5;241m=\u001B[39m \u001B[38;5;28;43mself\u001B[39;49m\u001B[38;5;241;43m.\u001B[39;49m\u001B[43mcolumns\u001B[49m\u001B[38;5;241;43m.\u001B[39;49m\u001B[43mget_loc\u001B[49m\u001B[43m(\u001B[49m\u001B[43mkey\u001B[49m\u001B[43m)\u001B[49m\n\u001B[1;32m   3762\u001B[0m \u001B[38;5;28;01mif\u001B[39;00m is_integer(indexer):\n\u001B[1;32m   3763\u001B[0m     indexer \u001B[38;5;241m=\u001B[39m [indexer]\n",
      "File \u001B[0;32m~/opt/anaconda3/envs/rm/lib/python3.11/site-packages/pandas/core/indexes/base.py:3655\u001B[0m, in \u001B[0;36mIndex.get_loc\u001B[0;34m(self, key)\u001B[0m\n\u001B[1;32m   3653\u001B[0m     \u001B[38;5;28;01mreturn\u001B[39;00m \u001B[38;5;28mself\u001B[39m\u001B[38;5;241m.\u001B[39m_engine\u001B[38;5;241m.\u001B[39mget_loc(casted_key)\n\u001B[1;32m   3654\u001B[0m \u001B[38;5;28;01mexcept\u001B[39;00m \u001B[38;5;167;01mKeyError\u001B[39;00m \u001B[38;5;28;01mas\u001B[39;00m err:\n\u001B[0;32m-> 3655\u001B[0m     \u001B[38;5;28;01mraise\u001B[39;00m \u001B[38;5;167;01mKeyError\u001B[39;00m(key) \u001B[38;5;28;01mfrom\u001B[39;00m \u001B[38;5;21;01merr\u001B[39;00m\n\u001B[1;32m   3656\u001B[0m \u001B[38;5;28;01mexcept\u001B[39;00m \u001B[38;5;167;01mTypeError\u001B[39;00m:\n\u001B[1;32m   3657\u001B[0m     \u001B[38;5;66;03m# If we have a listlike key, _check_indexing_error will raise\u001B[39;00m\n\u001B[1;32m   3658\u001B[0m     \u001B[38;5;66;03m#  InvalidIndexError. Otherwise we fall through and re-raise\u001B[39;00m\n\u001B[1;32m   3659\u001B[0m     \u001B[38;5;66;03m#  the TypeError.\u001B[39;00m\n\u001B[1;32m   3660\u001B[0m     \u001B[38;5;28mself\u001B[39m\u001B[38;5;241m.\u001B[39m_check_indexing_error(key)\n",
      "\u001B[0;31mKeyError\u001B[0m: 'y'"
     ]
    }
   ],
   "source": [
    "from sklearn.metrics import mean_absolute_percentage_error\n",
    "mean_absolute_percentage_error(merged['y'], merged['XGBRegressor'])"
   ],
   "metadata": {
    "collapsed": false,
    "ExecuteTime": {
     "end_time": "2023-10-31T11:51:10.693019Z",
     "start_time": "2023-10-31T11:51:10.634693Z"
    }
   },
   "id": "a578218318a3c082"
  },
  {
   "cell_type": "code",
   "execution_count": null,
   "outputs": [],
   "source": [],
   "metadata": {
    "collapsed": false
   },
   "id": "2e8810bd4e47a915"
  }
 ],
 "metadata": {
  "kernelspec": {
   "display_name": "Python 3",
   "language": "python",
   "name": "python3"
  },
  "language_info": {
   "codemirror_mode": {
    "name": "ipython",
    "version": 2
   },
   "file_extension": ".py",
   "mimetype": "text/x-python",
   "name": "python",
   "nbconvert_exporter": "python",
   "pygments_lexer": "ipython2",
   "version": "2.7.6"
  }
 },
 "nbformat": 4,
 "nbformat_minor": 5
}
